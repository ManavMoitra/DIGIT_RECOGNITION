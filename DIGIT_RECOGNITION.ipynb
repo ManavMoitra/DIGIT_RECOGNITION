{
  "nbformat": 4,
  "nbformat_minor": 0,
  "metadata": {
    "colab": {
      "name": "DIGIT_RECOGNITION.ipynb",
      "provenance": [],
      "collapsed_sections": [],
      "include_colab_link": true
    },
    "kernelspec": {
      "display_name": "Python 3",
      "name": "python3"
    }
  },
  "cells": [
    {
      "cell_type": "markdown",
      "metadata": {
        "id": "view-in-github",
        "colab_type": "text"
      },
      "source": [
        "<a href=\"https://colab.research.google.com/github/ManavMoitra/DIGIT_RECOGNITION/blob/main/DIGIT_RECOGNITION.ipynb\" target=\"_parent\"><img src=\"https://colab.research.google.com/assets/colab-badge.svg\" alt=\"Open In Colab\"/></a>"
      ]
    },
    {
      "cell_type": "code",
      "metadata": {
        "id": "UpuLl5zUdYPe"
      },
      "source": [
        "import tensorflow as tf\n",
        "import numpy as np\n",
        "from sklearn.metrics import accuracy_score"
      ],
      "execution_count": null,
      "outputs": []
    },
    {
      "cell_type": "code",
      "metadata": {
        "id": "EbF6wjqhdcI9",
        "colab": {
          "base_uri": "https://localhost:8080/",
          "height": 36
        },
        "outputId": "9fff48c4-0556-4813-a442-e77cf2139151"
      },
      "source": [
        "tf.__version__"
      ],
      "execution_count": null,
      "outputs": [
        {
          "output_type": "execute_result",
          "data": {
            "application/vnd.google.colaboratory.intrinsic+json": {
              "type": "string"
            },
            "text/plain": [
              "'2.3.0'"
            ]
          },
          "metadata": {
            "tags": []
          },
          "execution_count": 3
        }
      ]
    },
    {
      "cell_type": "code",
      "metadata": {
        "id": "isQ0_5k5fq8e"
      },
      "source": [
        "from tensorflow.keras.datasets import mnist\n"
      ],
      "execution_count": null,
      "outputs": []
    },
    {
      "cell_type": "code",
      "metadata": {
        "id": "l4B2l6M3fxUy",
        "colab": {
          "base_uri": "https://localhost:8080/"
        },
        "outputId": "3565c139-b91d-4923-ae76-bb5452647ffc"
      },
      "source": [
        "(X_train,y_train),(X_test,y_test)=mnist.load_data()"
      ],
      "execution_count": null,
      "outputs": [
        {
          "output_type": "stream",
          "text": [
            "Downloading data from https://storage.googleapis.com/tensorflow/tf-keras-datasets/mnist.npz\n",
            "11493376/11490434 [==============================] - 0s 0us/step\n"
          ],
          "name": "stdout"
        }
      ]
    },
    {
      "cell_type": "code",
      "metadata": {
        "id": "XP8y1lBugzY2"
      },
      "source": [
        "import matplotlib.pyplot as plt"
      ],
      "execution_count": null,
      "outputs": []
    },
    {
      "cell_type": "code",
      "metadata": {
        "id": "kVH0GasHhgbF",
        "colab": {
          "base_uri": "https://localhost:8080/"
        },
        "outputId": "c9fc44d3-a215-442b-bc6c-bc39f6a6b689"
      },
      "source": [
        "X_train.shape\n",
        "print(X_train[0].shape)"
      ],
      "execution_count": null,
      "outputs": [
        {
          "output_type": "stream",
          "text": [
            "(28, 28)\n"
          ],
          "name": "stdout"
        }
      ]
    },
    {
      "cell_type": "code",
      "metadata": {
        "id": "wjRjhgoIh3DE",
        "colab": {
          "base_uri": "https://localhost:8080/",
          "height": 284
        },
        "outputId": "c0ed7b91-6144-4204-e46c-3bdce83caf15"
      },
      "source": [
        "a=X_train\n",
        "plt.imshow(X_train[0])"
      ],
      "execution_count": null,
      "outputs": [
        {
          "output_type": "execute_result",
          "data": {
            "text/plain": [
              "<matplotlib.image.AxesImage at 0x7ff9992072e8>"
            ]
          },
          "metadata": {
            "tags": []
          },
          "execution_count": 9
        },
        {
          "output_type": "display_data",
          "data": {
            "image/png": "[encoded data removed]",
            "text/plain": [
              "<Figure size 432x288 with 1 Axes>"
            ]
          },
          "metadata": {
            "tags": []
          }
        }
      ]
    },
    {
      "cell_type": "code",
      "metadata": {
        "id": "gZVygBVeiHY2"
      },
      "source": [
        "X_train=X_train.astype('float')/255\n",
        "X_test=X_test.astype('float')/255"
      ],
      "execution_count": null,
      "outputs": []
    },
    {
      "cell_type": "code",
      "metadata": {
        "id": "85tzsGvCiuX0"
      },
      "source": [
        "X_train=np.expand_dims(X_train,-1)\n",
        "X_test=np.expand_dims(X_test,-1)"
      ],
      "execution_count": null,
      "outputs": []
    },
    {
      "cell_type": "code",
      "metadata": {
        "id": "vmq0MQzej-Jf",
        "colab": {
          "base_uri": "https://localhost:8080/"
        },
        "outputId": "0774e2d7-41cc-461a-8bdc-ae85305656d8"
      },
      "source": [
        "print(X_train.shape)\n",
        "print(y_train.shape)\n",
        "print(X_test.shape)\n",
        "print(y_test.shape)"
      ],
      "execution_count": null,
      "outputs": [
        {
          "output_type": "stream",
          "text": [
            "(60000, 28, 28, 1)\n",
            "(60000,)\n",
            "(10000, 28, 28, 1)\n",
            "(10000,)\n"
          ],
          "name": "stdout"
        }
      ]
    },
    {
      "cell_type": "code",
      "metadata": {
        "id": "5soxNqFeNyrT",
        "colab": {
          "base_uri": "https://localhost:8080/"
        },
        "outputId": "f372cdfb-7fcf-4bbf-cb41-85a2843d9561"
      },
      "source": [
        "print(X_train[0].shape)"
      ],
      "execution_count": null,
      "outputs": [
        {
          "output_type": "stream",
          "text": [
            "(28, 28, 1)\n"
          ],
          "name": "stdout"
        }
      ]
    },
    {
      "cell_type": "code",
      "metadata": {
        "id": "lEvQJQq6kFWO"
      },
      "source": [
        "from tensorflow.keras.layers import Dense\n",
        "from tensorflow.keras.layers import Flatten,Input\n",
        "from tensorflow.keras.models import Sequential,Model"
      ],
      "execution_count": null,
      "outputs": []
    },
    {
      "cell_type": "code",
      "metadata": {
        "id": "L2cVm3hHlKte"
      },
      "source": [
        "model=Sequential()\n",
        "i=Input(X_train[0].shape)\n",
        "x=Flatten()(i)\n",
        "x=Dense(units=32,activation='relu')(x)\n",
        "x=Dense(units=64,activation='relu')(x)\n",
        "x=Dense(units=10,activation='sigmoid')(x)\n",
        "model=Model(i,x)\n"
      ],
      "execution_count": null,
      "outputs": []
    },
    {
      "cell_type": "code",
      "metadata": {
        "id": "kBKKmpuSm0N3"
      },
      "source": [
        "model.compile(optimizer='SGD',loss='sparse_categorical_crossentropy',metrics=['accuracy'])"
      ],
      "execution_count": null,
      "outputs": []
    },
    {
      "cell_type": "code",
      "metadata": {
        "id": "jC68EGzOA5IQ",
        "colab": {
          "background_save": true,
          "base_uri": "https://localhost:8080/"
        },
        "outputId": "c0ac2cba-476f-4f4f-8d34-1c67ebefa50f"
      },
      "source": [
        "r=model.fit(X_train,y_train,validation_data=(X_test,y_test),epochs=100)"
      ],
      "execution_count": null,
      "outputs": [
        {
          "output_type": "stream",
          "text": [
            "Epoch 1/100\n",
            "1875/1875 [==============================] - 3s 1ms/step - loss: 1.0738 - accuracy: 0.6902 - val_loss: 0.3788 - val_accuracy: 0.8937\n",
            "Epoch 2/100\n",
            "1875/1875 [==============================] - 2s 1ms/step - loss: 0.3507 - accuracy: 0.8994 - val_loss: 0.3100 - val_accuracy: 0.9120\n",
            "Epoch 3/100\n",
            "1875/1875 [==============================] - 2s 1ms/step - loss: 0.2949 - accuracy: 0.9141 - val_loss: 0.2632 - val_accuracy: 0.9226\n",
            "Epoch 4/100\n",
            "1875/1875 [==============================] - 2s 1ms/step - loss: 0.2612 - accuracy: 0.9245 - val_loss: 0.2357 - val_accuracy: 0.9308\n",
            "Epoch 5/100\n",
            "1875/1875 [==============================] - 2s 1ms/step - loss: 0.2364 - accuracy: 0.9321 - val_loss: 0.2153 - val_accuracy: 0.9371\n",
            "Epoch 6/100\n",
            "1875/1875 [==============================] - 2s 1ms/step - loss: 0.2169 - accuracy: 0.9374 - val_loss: 0.2025 - val_accuracy: 0.9381\n",
            "Epoch 7/100\n",
            "1875/1875 [==============================] - 2s 1ms/step - loss: 0.2002 - accuracy: 0.9415 - val_loss: 0.1932 - val_accuracy: 0.9413\n",
            "Epoch 8/100\n",
            "1875/1875 [==============================] - 2s 1ms/step - loss: 0.1864 - accuracy: 0.9459 - val_loss: 0.1790 - val_accuracy: 0.9471\n",
            "Epoch 9/100\n",
            "1875/1875 [==============================] - 2s 1ms/step - loss: 0.1745 - accuracy: 0.9494 - val_loss: 0.1695 - val_accuracy: 0.9495\n",
            "Epoch 10/100\n",
            "1875/1875 [==============================] - 2s 1ms/step - loss: 0.1640 - accuracy: 0.9518 - val_loss: 0.1598 - val_accuracy: 0.9521\n",
            "Epoch 11/100\n",
            "1875/1875 [==============================] - 2s 1ms/step - loss: 0.1544 - accuracy: 0.9553 - val_loss: 0.1529 - val_accuracy: 0.9534\n",
            "Epoch 12/100\n",
            "1875/1875 [==============================] - 2s 1ms/step - loss: 0.1460 - accuracy: 0.9575 - val_loss: 0.1499 - val_accuracy: 0.9532\n",
            "Epoch 13/100\n",
            "1875/1875 [==============================] - 2s 1ms/step - loss: 0.1389 - accuracy: 0.9597 - val_loss: 0.1407 - val_accuracy: 0.9569\n",
            "Epoch 14/100\n",
            "1875/1875 [==============================] - 2s 1ms/step - loss: 0.1322 - accuracy: 0.9614 - val_loss: 0.1329 - val_accuracy: 0.9605\n",
            "Epoch 15/100\n",
            "1875/1875 [==============================] - 2s 1ms/step - loss: 0.1261 - accuracy: 0.9639 - val_loss: 0.1323 - val_accuracy: 0.9582\n",
            "Epoch 16/100\n",
            "1875/1875 [==============================] - 2s 1ms/step - loss: 0.1209 - accuracy: 0.9652 - val_loss: 0.1294 - val_accuracy: 0.9595\n",
            "Epoch 17/100\n",
            "1875/1875 [==============================] - 2s 1ms/step - loss: 0.1156 - accuracy: 0.9664 - val_loss: 0.1244 - val_accuracy: 0.9624\n",
            "Epoch 18/100\n",
            "1875/1875 [==============================] - 2s 1ms/step - loss: 0.1114 - accuracy: 0.9671 - val_loss: 0.1236 - val_accuracy: 0.9636\n",
            "Epoch 19/100\n",
            "1875/1875 [==============================] - 2s 1ms/step - loss: 0.1076 - accuracy: 0.9681 - val_loss: 0.1202 - val_accuracy: 0.9639\n",
            "Epoch 20/100\n",
            "1875/1875 [==============================] - 2s 1ms/step - loss: 0.1037 - accuracy: 0.9696 - val_loss: 0.1181 - val_accuracy: 0.9638\n",
            "Epoch 21/100\n",
            "1875/1875 [==============================] - 3s 1ms/step - loss: 0.1001 - accuracy: 0.9710 - val_loss: 0.1197 - val_accuracy: 0.9647\n",
            "Epoch 22/100\n",
            "1875/1875 [==============================] - 3s 1ms/step - loss: 0.0967 - accuracy: 0.9720 - val_loss: 0.1179 - val_accuracy: 0.9647\n",
            "Epoch 23/100\n",
            "1875/1875 [==============================] - 3s 1ms/step - loss: 0.0936 - accuracy: 0.9729 - val_loss: 0.1134 - val_accuracy: 0.9668\n",
            "Epoch 24/100\n",
            "1875/1875 [==============================] - 3s 1ms/step - loss: 0.0909 - accuracy: 0.9736 - val_loss: 0.1150 - val_accuracy: 0.9657\n",
            "Epoch 25/100\n",
            "1875/1875 [==============================] - 3s 1ms/step - loss: 0.0885 - accuracy: 0.9742 - val_loss: 0.1094 - val_accuracy: 0.9680\n",
            "Epoch 26/100\n",
            "1875/1875 [==============================] - 3s 2ms/step - loss: 0.0861 - accuracy: 0.9749 - val_loss: 0.1062 - val_accuracy: 0.9681\n",
            "Epoch 27/100\n",
            "1875/1875 [==============================] - 3s 1ms/step - loss: 0.0834 - accuracy: 0.9755 - val_loss: 0.1086 - val_accuracy: 0.9682\n",
            "Epoch 28/100\n",
            "1875/1875 [==============================] - 3s 1ms/step - loss: 0.0813 - accuracy: 0.9763 - val_loss: 0.1076 - val_accuracy: 0.9689\n",
            "Epoch 29/100\n",
            "1875/1875 [==============================] - 3s 1ms/step - loss: 0.0789 - accuracy: 0.9771 - val_loss: 0.1050 - val_accuracy: 0.9686\n",
            "Epoch 30/100\n",
            "1875/1875 [==============================] - 2s 1ms/step - loss: 0.0771 - accuracy: 0.9777 - val_loss: 0.1046 - val_accuracy: 0.9693\n",
            "Epoch 31/100\n",
            "1875/1875 [==============================] - 2s 1ms/step - loss: 0.0747 - accuracy: 0.9787 - val_loss: 0.1026 - val_accuracy: 0.9692\n",
            "Epoch 32/100\n",
            "1875/1875 [==============================] - 2s 1ms/step - loss: 0.0728 - accuracy: 0.9790 - val_loss: 0.1025 - val_accuracy: 0.9701\n",
            "Epoch 33/100\n",
            "1875/1875 [==============================] - 2s 1ms/step - loss: 0.0713 - accuracy: 0.9795 - val_loss: 0.1027 - val_accuracy: 0.9695\n",
            "Epoch 34/100\n",
            "1875/1875 [==============================] - 2s 1ms/step - loss: 0.0694 - accuracy: 0.9801 - val_loss: 0.1026 - val_accuracy: 0.9703\n",
            "Epoch 35/100\n",
            "1875/1875 [==============================] - 2s 1ms/step - loss: 0.0678 - accuracy: 0.9804 - val_loss: 0.1009 - val_accuracy: 0.9702\n",
            "Epoch 36/100\n",
            "1875/1875 [==============================] - 2s 1ms/step - loss: 0.0664 - accuracy: 0.9807 - val_loss: 0.1021 - val_accuracy: 0.9702\n",
            "Epoch 37/100\n",
            "1875/1875 [==============================] - 2s 1ms/step - loss: 0.0650 - accuracy: 0.9816 - val_loss: 0.1021 - val_accuracy: 0.9697\n",
            "Epoch 38/100\n",
            "1875/1875 [==============================] - 2s 1ms/step - loss: 0.0631 - accuracy: 0.9819 - val_loss: 0.1038 - val_accuracy: 0.9709\n",
            "Epoch 39/100\n",
            "1875/1875 [==============================] - 2s 1ms/step - loss: 0.0621 - accuracy: 0.9824 - val_loss: 0.0980 - val_accuracy: 0.9714\n",
            "Epoch 40/100\n",
            "1875/1875 [==============================] - 2s 1ms/step - loss: 0.0606 - accuracy: 0.9827 - val_loss: 0.0994 - val_accuracy: 0.9717\n",
            "Epoch 41/100\n",
            "1875/1875 [==============================] - 2s 1ms/step - loss: 0.0591 - accuracy: 0.9832 - val_loss: 0.1008 - val_accuracy: 0.9716\n",
            "Epoch 42/100\n",
            "1875/1875 [==============================] - 2s 1ms/step - loss: 0.0580 - accuracy: 0.9831 - val_loss: 0.1016 - val_accuracy: 0.9702\n",
            "Epoch 43/100\n",
            "1875/1875 [==============================] - 2s 1ms/step - loss: 0.0567 - accuracy: 0.9840 - val_loss: 0.0982 - val_accuracy: 0.9718\n",
            "Epoch 44/100\n",
            "1875/1875 [==============================] - 2s 1ms/step - loss: 0.0557 - accuracy: 0.9843 - val_loss: 0.1047 - val_accuracy: 0.9697\n",
            "Epoch 45/100\n",
            "1875/1875 [==============================] - 2s 1ms/step - loss: 0.0548 - accuracy: 0.9847 - val_loss: 0.0995 - val_accuracy: 0.9715\n",
            "Epoch 46/100\n",
            "1875/1875 [==============================] - 2s 1ms/step - loss: 0.0533 - accuracy: 0.9851 - val_loss: 0.1053 - val_accuracy: 0.9691\n",
            "Epoch 47/100\n",
            "1875/1875 [==============================] - 2s 1ms/step - loss: 0.0526 - accuracy: 0.9853 - val_loss: 0.0989 - val_accuracy: 0.9708\n",
            "Epoch 48/100\n",
            "1875/1875 [==============================] - 2s 1ms/step - loss: 0.0513 - accuracy: 0.9856 - val_loss: 0.1011 - val_accuracy: 0.9716\n",
            "Epoch 49/100\n",
            "1875/1875 [==============================] - 2s 1ms/step - loss: 0.0504 - accuracy: 0.9858 - val_loss: 0.1003 - val_accuracy: 0.9717\n",
            "Epoch 50/100\n",
            "1875/1875 [==============================] - 2s 1ms/step - loss: 0.0494 - accuracy: 0.9859 - val_loss: 0.0988 - val_accuracy: 0.9712\n",
            "Epoch 51/100\n",
            "1875/1875 [==============================] - 2s 1ms/step - loss: 0.0484 - accuracy: 0.9861 - val_loss: 0.1005 - val_accuracy: 0.9713\n",
            "Epoch 52/100\n",
            "1875/1875 [==============================] - 2s 1ms/step - loss: 0.0477 - accuracy: 0.9866 - val_loss: 0.0988 - val_accuracy: 0.9726\n",
            "Epoch 53/100\n",
            "1875/1875 [==============================] - 2s 1ms/step - loss: 0.0466 - accuracy: 0.9872 - val_loss: 0.0993 - val_accuracy: 0.9716\n",
            "Epoch 54/100\n",
            "1875/1875 [==============================] - 2s 1ms/step - loss: 0.0459 - accuracy: 0.9875 - val_loss: 0.1010 - val_accuracy: 0.9705\n",
            "Epoch 55/100\n",
            "1875/1875 [==============================] - 2s 1ms/step - loss: 0.0445 - accuracy: 0.9878 - val_loss: 0.1001 - val_accuracy: 0.9719\n",
            "Epoch 56/100\n",
            "1875/1875 [==============================] - 2s 1ms/step - loss: 0.0438 - accuracy: 0.9880 - val_loss: 0.1000 - val_accuracy: 0.9714\n",
            "Epoch 57/100\n",
            "1875/1875 [==============================] - 2s 1ms/step - loss: 0.0434 - accuracy: 0.9880 - val_loss: 0.1000 - val_accuracy: 0.9727\n",
            "Epoch 58/100\n",
            "1875/1875 [==============================] - 2s 1ms/step - loss: 0.0423 - accuracy: 0.9883 - val_loss: 0.1047 - val_accuracy: 0.9706\n",
            "Epoch 59/100\n",
            "1875/1875 [==============================] - 2s 1ms/step - loss: 0.0415 - accuracy: 0.9888 - val_loss: 0.1025 - val_accuracy: 0.9714\n",
            "Epoch 60/100\n",
            "1875/1875 [==============================] - 2s 1ms/step - loss: 0.0408 - accuracy: 0.9886 - val_loss: 0.1027 - val_accuracy: 0.9708\n",
            "Epoch 61/100\n",
            "1875/1875 [==============================] - 2s 1ms/step - loss: 0.0403 - accuracy: 0.9890 - val_loss: 0.0999 - val_accuracy: 0.9722\n",
            "Epoch 62/100\n",
            "1875/1875 [==============================] - 2s 1ms/step - loss: 0.0391 - accuracy: 0.9897 - val_loss: 0.1021 - val_accuracy: 0.9725\n",
            "Epoch 63/100\n",
            "1875/1875 [==============================] - 3s 1ms/step - loss: 0.0386 - accuracy: 0.9898 - val_loss: 0.1039 - val_accuracy: 0.9717\n",
            "Epoch 64/100\n",
            "1875/1875 [==============================] - 3s 2ms/step - loss: 0.0379 - accuracy: 0.9899 - val_loss: 0.1036 - val_accuracy: 0.9726\n",
            "Epoch 65/100\n",
            "1875/1875 [==============================] - 2s 1ms/step - loss: 0.0371 - accuracy: 0.9902 - val_loss: 0.1042 - val_accuracy: 0.9716\n",
            "Epoch 66/100\n",
            "1875/1875 [==============================] - 2s 1ms/step - loss: 0.0365 - accuracy: 0.9901 - val_loss: 0.1074 - val_accuracy: 0.9707\n",
            "Epoch 67/100\n",
            "1875/1875 [==============================] - 2s 1ms/step - loss: 0.0360 - accuracy: 0.9905 - val_loss: 0.1050 - val_accuracy: 0.9712\n",
            "Epoch 68/100\n",
            "1875/1875 [==============================] - 2s 1ms/step - loss: 0.0352 - accuracy: 0.9909 - val_loss: 0.1007 - val_accuracy: 0.9729\n",
            "Epoch 69/100\n",
            "1875/1875 [==============================] - 2s 1ms/step - loss: 0.0347 - accuracy: 0.9911 - val_loss: 0.1025 - val_accuracy: 0.9713\n",
            "Epoch 70/100\n",
            "1875/1875 [==============================] - 2s 1ms/step - loss: 0.0341 - accuracy: 0.9914 - val_loss: 0.1028 - val_accuracy: 0.9712\n",
            "Epoch 71/100\n",
            "1875/1875 [==============================] - 2s 1ms/step - loss: 0.0332 - accuracy: 0.9916 - val_loss: 0.1101 - val_accuracy: 0.9698\n",
            "Epoch 72/100\n",
            "1875/1875 [==============================] - 2s 1ms/step - loss: 0.0329 - accuracy: 0.9917 - val_loss: 0.1046 - val_accuracy: 0.9712\n",
            "Epoch 73/100\n",
            "1875/1875 [==============================] - 2s 1ms/step - loss: 0.0324 - accuracy: 0.9918 - val_loss: 0.1032 - val_accuracy: 0.9728\n",
            "Epoch 74/100\n",
            "1875/1875 [==============================] - 2s 1ms/step - loss: 0.0318 - accuracy: 0.9920 - val_loss: 0.1048 - val_accuracy: 0.9727\n",
            "Epoch 75/100\n",
            "1875/1875 [==============================] - 2s 1ms/step - loss: 0.0309 - accuracy: 0.9922 - val_loss: 0.1093 - val_accuracy: 0.9718\n",
            "Epoch 76/100\n",
            "1875/1875 [==============================] - 2s 1ms/step - loss: 0.0305 - accuracy: 0.9921 - val_loss: 0.1069 - val_accuracy: 0.9723\n",
            "Epoch 77/100\n",
            "1875/1875 [==============================] - 2s 1ms/step - loss: 0.0302 - accuracy: 0.9922 - val_loss: 0.1068 - val_accuracy: 0.9716\n",
            "Epoch 78/100\n",
            "1875/1875 [==============================] - 2s 1ms/step - loss: 0.0296 - accuracy: 0.9926 - val_loss: 0.1072 - val_accuracy: 0.9713\n",
            "Epoch 79/100\n",
            "1875/1875 [==============================] - 2s 1ms/step - loss: 0.0293 - accuracy: 0.9924 - val_loss: 0.1072 - val_accuracy: 0.9708\n",
            "Epoch 80/100\n",
            "1875/1875 [==============================] - 2s 1ms/step - loss: 0.0284 - accuracy: 0.9932 - val_loss: 0.1080 - val_accuracy: 0.9717\n",
            "Epoch 81/100\n",
            "1875/1875 [==============================] - 2s 1ms/step - loss: 0.0282 - accuracy: 0.9927 - val_loss: 0.1065 - val_accuracy: 0.9723\n",
            "Epoch 82/100\n",
            "1875/1875 [==============================] - 2s 1ms/step - loss: 0.0277 - accuracy: 0.9931 - val_loss: 0.1070 - val_accuracy: 0.9710\n",
            "Epoch 83/100\n",
            "1875/1875 [==============================] - 2s 1ms/step - loss: 0.0270 - accuracy: 0.9934 - val_loss: 0.1067 - val_accuracy: 0.9726\n",
            "Epoch 84/100\n",
            "1875/1875 [==============================] - 2s 1ms/step - loss: 0.0267 - accuracy: 0.9933 - val_loss: 0.1084 - val_accuracy: 0.9712\n",
            "Epoch 85/100\n",
            "1875/1875 [==============================] - 2s 1ms/step - loss: 0.0262 - accuracy: 0.9938 - val_loss: 0.1090 - val_accuracy: 0.9718\n",
            "Epoch 86/100\n",
            "1875/1875 [==============================] - 2s 1ms/step - loss: 0.0259 - accuracy: 0.9938 - val_loss: 0.1110 - val_accuracy: 0.9709\n",
            "Epoch 87/100\n",
            "1875/1875 [==============================] - 2s 1ms/step - loss: 0.0252 - accuracy: 0.9940 - val_loss: 0.1127 - val_accuracy: 0.9720\n",
            "Epoch 88/100\n",
            "1875/1875 [==============================] - 2s 1ms/step - loss: 0.0251 - accuracy: 0.9942 - val_loss: 0.1098 - val_accuracy: 0.9718\n",
            "Epoch 89/100\n",
            "1875/1875 [==============================] - 2s 1ms/step - loss: 0.0245 - accuracy: 0.9941 - val_loss: 0.1087 - val_accuracy: 0.9721\n",
            "Epoch 90/100\n",
            "1875/1875 [==============================] - 2s 1ms/step - loss: 0.0240 - accuracy: 0.9943 - val_loss: 0.1145 - val_accuracy: 0.9710\n",
            "Epoch 91/100\n",
            "1875/1875 [==============================] - 2s 1ms/step - loss: 0.0238 - accuracy: 0.9943 - val_loss: 0.1134 - val_accuracy: 0.9717\n",
            "Epoch 92/100\n",
            "1875/1875 [==============================] - 2s 1ms/step - loss: 0.0234 - accuracy: 0.9944 - val_loss: 0.1113 - val_accuracy: 0.9713\n",
            "Epoch 93/100\n",
            "1875/1875 [==============================] - 2s 1ms/step - loss: 0.0227 - accuracy: 0.9947 - val_loss: 0.1116 - val_accuracy: 0.9707\n",
            "Epoch 94/100\n",
            "1875/1875 [==============================] - 2s 1ms/step - loss: 0.0224 - accuracy: 0.9949 - val_loss: 0.1117 - val_accuracy: 0.9708\n",
            "Epoch 95/100\n",
            "1875/1875 [==============================] - 2s 1ms/step - loss: 0.0224 - accuracy: 0.9949 - val_loss: 0.1133 - val_accuracy: 0.9715\n",
            "Epoch 96/100\n",
            "1875/1875 [==============================] - 2s 1ms/step - loss: 0.0219 - accuracy: 0.9951 - val_loss: 0.1177 - val_accuracy: 0.9706\n",
            "Epoch 97/100\n",
            "1875/1875 [==============================] - 2s 1ms/step - loss: 0.0215 - accuracy: 0.9952 - val_loss: 0.1126 - val_accuracy: 0.9715\n",
            "Epoch 98/100\n",
            "1875/1875 [==============================] - 2s 1ms/step - loss: 0.0210 - accuracy: 0.9956 - val_loss: 0.1126 - val_accuracy: 0.9722\n",
            "Epoch 99/100\n",
            "1875/1875 [==============================] - 2s 1ms/step - loss: 0.0208 - accuracy: 0.9955 - val_loss: 0.1158 - val_accuracy: 0.9707\n",
            "Epoch 100/100\n",
            "1875/1875 [==============================] - 2s 1ms/step - loss: 0.0205 - accuracy: 0.9957 - val_loss: 0.1140 - val_accuracy: 0.9717\n"
          ],
          "name": "stdout"
        }
      ]
    },
    {
      "cell_type": "code",
      "metadata": {
        "id": "jitiztFTBM-v",
        "colab": {
          "background_save": true
        }
      },
      "source": [
        "y_pred=model.predict(X_test)"
      ],
      "execution_count": null,
      "outputs": []
    },
    {
      "cell_type": "code",
      "metadata": {
        "id": "JahcEaflHelE",
        "colab": {
          "background_save": true
        },
        "outputId": "234ec02b-ba95-4508-d3a4-1425291bfab5"
      },
      "source": [
        "model.evaluate(X_test,y_test)"
      ],
      "execution_count": null,
      "outputs": [
        {
          "output_type": "stream",
          "text": [
            "313/313 [==============================] - 0s 910us/step - loss: 0.1140 - accuracy: 0.9717\n"
          ],
          "name": "stdout"
        },
        {
          "output_type": "execute_result",
          "data": {
            "text/plain": [
              "[0.11400598287582397, 0.9717000126838684]"
            ]
          },
          "metadata": {
            "tags": []
          },
          "execution_count": 0
        }
      ]
    },
    {
      "cell_type": "code",
      "metadata": {
        "id": "-aX6WxPLHoxU",
        "colab": {
          "background_save": true
        }
      },
      "source": [
        ""
      ],
      "execution_count": null,
      "outputs": []
    },
    {
      "cell_type": "code",
      "metadata": {
        "id": "vyIKi62MNOlp"
      },
      "source": [
        ""
      ],
      "execution_count": null,
      "outputs": []
    }
  ]
}